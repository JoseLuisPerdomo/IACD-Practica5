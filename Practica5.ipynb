{
 "cells": [
  {
   "cell_type": "markdown",
   "source": [
    "# Practica 5"
   ],
   "metadata": {
    "collapsed": false
   },
   "id": "828d52564c3a2951"
  },
  {
   "cell_type": "code",
   "execution_count": 30,
   "id": "initial_id",
   "metadata": {
    "collapsed": true,
    "ExecuteTime": {
     "end_time": "2024-05-09T12:31:33.653855700Z",
     "start_time": "2024-05-09T12:31:33.629670100Z"
    }
   },
   "outputs": [],
   "source": [
    "from deap import creator, tools, base, algorithms\n",
    "import numpy as np\n",
    "import random\n",
    "\n",
    "\n",
    "class Tren:\n",
    "    def __init__(self, numero_vagones, operacion, matricula):\n",
    "        self.numero_vagones = numero_vagones\n",
    "        self.operacion = operacion\n",
    "        self.matricula = matricula\n",
    "\n",
    "    def __str__(self):\n",
    "        return \"Número de vagones: \" + str(self.numero_vagones) + \"\\n\" + \\\n",
    "        \"Muelle de operaciones: \" + str(self.operacion) + \"\\n\" + \\\n",
    "                \"Matrícula: \" + str(self.matricula) + \"\\n\"\n",
    "\n",
    "    \n",
    "\n",
    "\n",
    "def producir_lista_trenes_aleatoria(n, min_vagones, max_vagones):\n",
    "    lista_trenes = []\n",
    "    for i in range(n):\n",
    "        numero_vagones = random.randint(min_vagones, max_vagones)\n",
    "        operacion = random.choice([\"gas\", \"carbón\", \"contenedores\"])\n",
    "        lista_trenes.append(Tren(numero_vagones, operacion, i))\n",
    "    return lista_trenes\n",
    "\n",
    "\n",
    "def crear_cola_de_trenes(lista_de_trenes):\n",
    "    auxiliar = lista_de_trenes\n",
    "    random.shuffle(auxiliar)\n",
    "    return auxiliar\n",
    "\n",
    "\n",
    "class Cola_de_trenes(list):\n",
    "    def __init__(self, lista_de_trenes):\n",
    "        list.extend(self,crear_cola_de_trenes(lista_de_trenes))\n",
    "\n",
    "    def __str__(self):\n",
    "        cadena = \"\"\n",
    "        for i in list(self):\n",
    "            cadena += (str(i) + \"\\n\")\n",
    "        return cadena\n",
    "    \n",
    "\n",
    "random.seed(2024)\n",
    "lista_de_trenes = producir_lista_trenes_aleatoria(50, 10, 30)\n",
    "\n",
    "\n",
    "cola_de_trenes = Cola_de_trenes(lista_de_trenes)"
   ]
  },
  {
   "cell_type": "code",
   "outputs": [
    {
     "name": "stderr",
     "output_type": "stream",
     "text": [
      "C:\\Users\\Usuario\\PycharmProjects\\vent\\Lib\\site-packages\\deap\\creator.py:185: RuntimeWarning: A class named 'FitnessMin' has already been created and it will be overwritten. Consider deleting previous creation of that class or rename it.\n",
      "  warnings.warn(\"A class named '{0}' has already been created and it \"\n",
      "C:\\Users\\Usuario\\PycharmProjects\\vent\\Lib\\site-packages\\deap\\creator.py:185: RuntimeWarning: A class named 'Individual' has already been created and it will be overwritten. Consider deleting previous creation of that class or rename it.\n",
      "  warnings.warn(\"A class named '{0}' has already been created and it \"\n"
     ]
    }
   ],
   "source": [
    "creator.create(\"FitnessMin\", base.Fitness, weights=(-1.0,))\n",
    "\n",
    "creator.create(\"Individual\", Cola_de_trenes, fitness=creator.FitnessMin)"
   ],
   "metadata": {
    "collapsed": false,
    "ExecuteTime": {
     "end_time": "2024-05-09T12:26:35.884024Z",
     "start_time": "2024-05-09T12:26:35.854705400Z"
    }
   },
   "id": "8fb3044cd0f58b43",
   "execution_count": 14
  },
  {
   "cell_type": "code",
   "outputs": [],
   "source": [
    "toolbox = base.Toolbox()\n",
    "\n",
    "# Crear individuos\n",
    "toolbox.register(\"individual\", creator.Individual, producir_lista_trenes_aleatoria(50, 10, 30))\n",
    "toolbox.register(\"population\", tools.initRepeat, list, toolbox.individual)"
   ],
   "metadata": {
    "collapsed": false,
    "ExecuteTime": {
     "end_time": "2024-05-09T12:38:02.424632Z",
     "start_time": "2024-05-09T12:38:02.398714600Z"
    }
   },
   "id": "9b8e7473f9cbd532",
   "execution_count": 41
  },
  {
   "cell_type": "code",
   "outputs": [],
   "source": [
    "\n",
    "def tiempo_total(indiv):\n",
    "    sum = 0 \n",
    "    for tren in indiv:\n",
    "        sum += tren.numero_vagones\n",
    "\n",
    "    return sum\n",
    "\n",
    "\n",
    "\n",
    "def evaluar_cola(individuo):\n",
    "    \n",
    "    muelle_gas = 1\n",
    "    muelle_carbon = 1\n",
    "    muelle_contenedores = 1\n",
    "    id_tren = 0\n",
    "\n",
    "    \n",
    "    for i in range(tiempo_total(individuo)):\n",
    "        muelle_gas -= 1\n",
    "        muelle_carbon -= 1\n",
    "        muelle_contenedores -= 1\n",
    "        \n",
    "        if id_tren >= len(individuo) and muelle_carbon <= 0 and muelle_contenedores <= 0 and muelle_gas <= 0:\n",
    "            break\n",
    "        \n",
    "        for _ in range(3):\n",
    "            \n",
    "            if id_tren >= len(individuo):\n",
    "                break\n",
    "\n",
    "            if individuo[id_tren].operacion == \"carbón\" and muelle_carbon <= 0:\n",
    "                muelle_carbon = individuo[id_tren].numero_vagones\n",
    "                id_tren += 1\n",
    "                continue\n",
    "            if individuo[id_tren].operacion == \"contenedores\" and muelle_contenedores <= 0:\n",
    "                muelle_contenedores = individuo[id_tren].numero_vagones\n",
    "                id_tren += 1\n",
    "                continue\n",
    "                \n",
    "            if individuo[id_tren].operacion == \"gas\" and muelle_gas <= 0:\n",
    "                muelle_gas = individuo[id_tren].numero_vagones\n",
    "                id_tren += 1\n",
    "                continue\n",
    "\n",
    "        continue\n",
    "    return i,\n"
   ],
   "metadata": {
    "collapsed": false,
    "ExecuteTime": {
     "end_time": "2024-05-09T12:38:05.043790Z",
     "start_time": "2024-05-09T12:38:05.022801Z"
    }
   },
   "id": "f94ff947eeae1f33",
   "execution_count": 42
  },
  {
   "cell_type": "code",
   "outputs": [],
   "source": [
    "# Funcion mutacion\n",
    "\n",
    "def train_swap(indivuduo, indpb):\n",
    "    if random.random() < indpb:\n",
    "        pos1 = random.randint(0, len(indivuduo) - 1)\n",
    "        pos2 = random.randint(0, len(indivuduo) - 1)\n",
    "        \n",
    "        train1 = indivuduo[pos1]\n",
    "        train2 = indivuduo[pos2]\n",
    "        indivuduo[pos1] = train2\n",
    "        indivuduo[pos2] = train1\n",
    "        \n",
    "        print(pos1, pos2)\n",
    "        \n",
    "    return indivuduo,\n",
    "        \n",
    "        \n",
    "        "
   ],
   "metadata": {
    "collapsed": false,
    "ExecuteTime": {
     "end_time": "2024-05-09T12:38:05.878979800Z",
     "start_time": "2024-05-09T12:38:05.856543200Z"
    }
   },
   "id": "b64646e8922cabdb",
   "execution_count": 43
  },
  {
   "cell_type": "code",
   "outputs": [],
   "source": [
    "toolbox.register(\"evaluate\", evaluar_cola)\n",
    "toolbox.register(\"select\", tools.selTournament, tournsize=3)\n",
    "toolbox.register(\"mate\", tools.cxTwoPoint)\n",
    "toolbox.register(\"mutate\", train_swap, indpb=0.03)"
   ],
   "metadata": {
    "collapsed": false,
    "ExecuteTime": {
     "end_time": "2024-05-09T12:38:07.910390100Z",
     "start_time": "2024-05-09T12:38:07.902594900Z"
    }
   },
   "id": "63347ee903020938",
   "execution_count": 44
  },
  {
   "cell_type": "code",
   "outputs": [],
   "source": [
    "ranking = tools.HallOfFame(5)\n",
    "estadisticas = tools.Statistics(lambda indiv: indiv.fitness.values)\n",
    "estadisticas.register(\"promedio\", np.mean)\n",
    "estadisticas.register(\"max\", np.max)\n",
    "estadisticas.register(\"min\", np.min)"
   ],
   "metadata": {
    "collapsed": false,
    "ExecuteTime": {
     "end_time": "2024-05-09T12:38:10.305215700Z",
     "start_time": "2024-05-09T12:38:10.289999400Z"
    }
   },
   "id": "3b171dfc3ec157a4",
   "execution_count": 45
  },
  {
   "cell_type": "code",
   "outputs": [
    {
     "name": "stdout",
     "output_type": "stream",
     "text": [
      "gen\tnevals\tpromedio\tmax\tmin\n",
      "0  \t100   \t564.89  \t650\t466\n",
      "10 39\n",
      "1  \t55    \t536.08  \t602\t458\n",
      "2  \t59    \t514.98  \t576\t458\n",
      "24 27\n",
      "3  \t56    \t497.15  \t543\t444\n",
      "14 46\n",
      "4  \t63    \t480.08  \t533\t440\n",
      "5  \t54    \t465.27  \t515\t426\n",
      "6  \t69    \t452.43  \t521\t399\n",
      "7  \t61    \t442.44  \t499\t405\n",
      "8  \t64    \t429.76  \t470\t390\n",
      "27 16\n",
      "9  \t60    \t418.76  \t448\t390\n",
      "28 23\n",
      "10 \t57    \t411.94  \t457\t377\n",
      "11 \t51    \t401.78  \t441\t371\n",
      "12 \t57    \t392.88  \t452\t365\n",
      "13 \t60    \t385.95  \t419\t365\n",
      "8 31\n",
      "43 5\n",
      "14 \t54    \t379.42  \t427\t357\n",
      "33 42\n",
      "15 \t52    \t372.6   \t406\t349\n",
      "16 \t63    \t367.62  \t400\t349\n",
      "25 35\n",
      "17 \t66    \t363.33  \t392\t349\n",
      "18 \t66    \t358.65  \t388\t347\n",
      "28 30\n",
      "19 \t60    \t355.26  \t396\t339\n",
      "40 14\n",
      "20 \t69    \t351.05  \t395\t339\n",
      "45 44\n",
      "5 49\n",
      "20 23\n",
      "21 \t68    \t347.64  \t370\t337\n",
      "22 \t62    \t344.51  \t358\t331\n",
      "36 6\n",
      "36 34\n",
      "23 \t63    \t341.1   \t382\t331\n",
      "24 \t64    \t337.54  \t356\t327\n",
      "31 45\n",
      "25 \t58    \t334.29  \t358\t327\n",
      "26 \t49    \t331.47  \t351\t327\n",
      "38 38\n",
      "27 \t51    \t329.4   \t335\t327\n",
      "28 \t51    \t328.06  \t337\t327\n",
      "29 \t69    \t327.15  \t329\t327\n",
      "30 \t62    \t327     \t327\t327\n",
      "31 \t62    \t327     \t327\t327\n",
      "10 31\n",
      "32 \t65    \t327     \t327\t327\n",
      "6 26\n",
      "33 \t59    \t327.28  \t355\t327\n",
      "34 \t60    \t327     \t327\t327\n",
      "35 \t68    \t327     \t327\t327\n"
     ]
    }
   ],
   "source": [
    "poblacion = toolbox.population(n=100)\n",
    "pop, logbook = algorithms.eaSimple(poblacion, toolbox, cxpb=0.5, mutpb=0.2, ngen=35, stats=estadisticas, halloffame=ranking, verbose=True)"
   ],
   "metadata": {
    "collapsed": false,
    "ExecuteTime": {
     "end_time": "2024-05-09T12:38:13.986950300Z",
     "start_time": "2024-05-09T12:38:11.580911800Z"
    }
   },
   "id": "dd7567af4303cb18",
   "execution_count": 46
  },
  {
   "cell_type": "code",
   "outputs": [
    {
     "name": "stdout",
     "output_type": "stream",
     "text": [
      "El mejor individuo es \n",
      " Número de vagones: 11\n",
      "Muelle de operaciones: gas\n",
      "Matrícula: 11\n",
      "\n",
      "Número de vagones: 10\n",
      "Muelle de operaciones: carbón\n",
      "Matrícula: 23\n",
      "\n",
      "Número de vagones: 13\n",
      "Muelle de operaciones: contenedores\n",
      "Matrícula: 42\n",
      "\n",
      "Número de vagones: 10\n",
      "Muelle de operaciones: gas\n",
      "Matrícula: 7\n",
      "\n",
      "Número de vagones: 19\n",
      "Muelle de operaciones: carbón\n",
      "Matrícula: 24\n",
      "\n",
      "Número de vagones: 20\n",
      "Muelle de operaciones: contenedores\n",
      "Matrícula: 17\n",
      "\n",
      "Número de vagones: 22\n",
      "Muelle de operaciones: gas\n",
      "Matrícula: 4\n",
      "\n",
      "Número de vagones: 27\n",
      "Muelle de operaciones: contenedores\n",
      "Matrícula: 38\n",
      "\n",
      "Número de vagones: 29\n",
      "Muelle de operaciones: carbón\n",
      "Matrícula: 28\n",
      "\n",
      "Número de vagones: 10\n",
      "Muelle de operaciones: gas\n",
      "Matrícula: 9\n",
      "\n",
      "Número de vagones: 14\n",
      "Muelle de operaciones: gas\n",
      "Matrícula: 22\n",
      "\n",
      "Número de vagones: 27\n",
      "Muelle de operaciones: contenedores\n",
      "Matrícula: 38\n",
      "\n",
      "Número de vagones: 26\n",
      "Muelle de operaciones: gas\n",
      "Matrícula: 46\n",
      "\n",
      "Número de vagones: 23\n",
      "Muelle de operaciones: carbón\n",
      "Matrícula: 27\n",
      "\n",
      "Número de vagones: 19\n",
      "Muelle de operaciones: carbón\n",
      "Matrícula: 24\n",
      "\n",
      "Número de vagones: 14\n",
      "Muelle de operaciones: gas\n",
      "Matrícula: 39\n",
      "\n",
      "Número de vagones: 26\n",
      "Muelle de operaciones: contenedores\n",
      "Matrícula: 33\n",
      "\n",
      "Número de vagones: 14\n",
      "Muelle de operaciones: gas\n",
      "Matrícula: 2\n",
      "\n",
      "Número de vagones: 18\n",
      "Muelle de operaciones: gas\n",
      "Matrícula: 36\n",
      "\n",
      "Número de vagones: 10\n",
      "Muelle de operaciones: carbón\n",
      "Matrícula: 23\n",
      "\n",
      "Número de vagones: 18\n",
      "Muelle de operaciones: contenedores\n",
      "Matrícula: 18\n",
      "\n",
      "Número de vagones: 13\n",
      "Muelle de operaciones: carbón\n",
      "Matrícula: 41\n",
      "\n",
      "Número de vagones: 13\n",
      "Muelle de operaciones: contenedores\n",
      "Matrícula: 42\n",
      "\n",
      "Número de vagones: 27\n",
      "Muelle de operaciones: gas\n",
      "Matrícula: 44\n",
      "\n",
      "Número de vagones: 15\n",
      "Muelle de operaciones: carbón\n",
      "Matrícula: 3\n",
      "\n",
      "Número de vagones: 11\n",
      "Muelle de operaciones: gas\n",
      "Matrícula: 11\n",
      "\n",
      "Número de vagones: 13\n",
      "Muelle de operaciones: contenedores\n",
      "Matrícula: 42\n",
      "\n",
      "Número de vagones: 15\n",
      "Muelle de operaciones: carbón\n",
      "Matrícula: 5\n",
      "\n",
      "Número de vagones: 18\n",
      "Muelle de operaciones: gas\n",
      "Matrícula: 36\n",
      "\n",
      "Número de vagones: 19\n",
      "Muelle de operaciones: carbón\n",
      "Matrícula: 24\n",
      "\n",
      "Número de vagones: 27\n",
      "Muelle de operaciones: contenedores\n",
      "Matrícula: 38\n",
      "\n",
      "Número de vagones: 17\n",
      "Muelle de operaciones: gas\n",
      "Matrícula: 45\n",
      "\n",
      "Número de vagones: 23\n",
      "Muelle de operaciones: carbón\n",
      "Matrícula: 15\n",
      "\n",
      "Número de vagones: 10\n",
      "Muelle de operaciones: contenedores\n",
      "Matrícula: 16\n",
      "\n",
      "Número de vagones: 23\n",
      "Muelle de operaciones: gas\n",
      "Matrícula: 35\n",
      "\n",
      "Número de vagones: 24\n",
      "Muelle de operaciones: contenedores\n",
      "Matrícula: 6\n",
      "\n",
      "Número de vagones: 16\n",
      "Muelle de operaciones: carbón\n",
      "Matrícula: 47\n",
      "\n",
      "Número de vagones: 11\n",
      "Muelle de operaciones: gas\n",
      "Matrícula: 11\n",
      "\n",
      "Número de vagones: 14\n",
      "Muelle de operaciones: gas\n",
      "Matrícula: 22\n",
      "\n",
      "Número de vagones: 21\n",
      "Muelle de operaciones: carbón\n",
      "Matrícula: 31\n",
      "\n",
      "Número de vagones: 28\n",
      "Muelle de operaciones: contenedores\n",
      "Matrícula: 40\n",
      "\n",
      "Número de vagones: 15\n",
      "Muelle de operaciones: gas\n",
      "Matrícula: 19\n",
      "\n",
      "Número de vagones: 25\n",
      "Muelle de operaciones: gas\n",
      "Matrícula: 25\n",
      "\n",
      "Número de vagones: 23\n",
      "Muelle de operaciones: carbón\n",
      "Matrícula: 27\n",
      "\n",
      "Número de vagones: 20\n",
      "Muelle de operaciones: contenedores\n",
      "Matrícula: 17\n",
      "\n",
      "Número de vagones: 20\n",
      "Muelle de operaciones: contenedores\n",
      "Matrícula: 8\n",
      "\n",
      "Número de vagones: 29\n",
      "Muelle de operaciones: carbón\n",
      "Matrícula: 28\n",
      "\n",
      "Número de vagones: 10\n",
      "Muelle de operaciones: gas\n",
      "Matrícula: 7\n",
      "\n",
      "Número de vagones: 10\n",
      "Muelle de operaciones: contenedores\n",
      "Matrícula: 16\n",
      "\n",
      "Número de vagones: 11\n",
      "Muelle de operaciones: gas\n",
      "Matrícula: 11\n",
      "\n",
      " con aptitud (327.0,)\n"
     ]
    }
   ],
   "source": [
    "print(f'El mejor individuo es \\n {ranking[0]} con aptitud {ranking[0].fitness}')"
   ],
   "metadata": {
    "collapsed": false,
    "ExecuteTime": {
     "end_time": "2024-05-09T12:39:05.794781100Z",
     "start_time": "2024-05-09T12:39:05.777211300Z"
    }
   },
   "id": "7d90fffb22d40893",
   "execution_count": 49
  },
  {
   "cell_type": "code",
   "outputs": [],
   "source": [],
   "metadata": {
    "collapsed": false
   },
   "id": "1ec05cb8ece827be"
  },
  {
   "cell_type": "code",
   "outputs": [
    {
     "data": {
      "text/plain": "<Figure size 640x480 with 1 Axes>",
      "image/png": "[encoded data removed]"
     },
     "metadata": {},
     "output_type": "display_data"
    }
   ],
   "source": [
    "import matplotlib.pyplot as plt\n",
    "\n",
    "\n",
    "gen, prom, min, max = logbook.select(\"gen\", \"promedio\", \"min\", \"max\")\n",
    "\n",
    "plt.plot(gen, prom, label=\"Promedio\")\n",
    "plt.plot(gen, min, label=\"Minimo\")\n",
    "plt.plot(gen, max, label=\"Max\")\n",
    "plt.xlabel(\"Gen\")\n",
    "plt.ylabel(\"Aptitud\")\n",
    "plt.legend(loc=\"lower right\")\n",
    "plt.show()"
   ],
   "metadata": {
    "collapsed": false,
    "ExecuteTime": {
     "end_time": "2024-05-09T12:42:44.947671200Z",
     "start_time": "2024-05-09T12:42:42.443046900Z"
    }
   },
   "id": "ea2ec8425bff7b78",
   "execution_count": 52
  },
  {
   "cell_type": "code",
   "outputs": [],
   "source": [],
   "metadata": {
    "collapsed": false
   },
   "id": "301d9c878524c7df"
  }
 ],
 "metadata": {
  "kernelspec": {
   "display_name": "Python 3",
   "language": "python",
   "name": "python3"
  },
  "language_info": {
   "codemirror_mode": {
    "name": "ipython",
    "version": 2
   },
   "file_extension": ".py",
   "mimetype": "text/x-python",
   "name": "python",
   "nbconvert_exporter": "python",
   "pygments_lexer": "ipython2",
   "version": "2.7.6"
  }
 },
 "nbformat": 4,
 "nbformat_minor": 5
}
