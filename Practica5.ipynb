{
 "cells": [
  {
   "cell_type": "markdown",
   "source": [
    "# Practica 5"
   ],
   "metadata": {
    "collapsed": false
   },
   "id": "828d52564c3a2951"
  },
  {
   "cell_type": "code",
   "execution_count": 9,
   "id": "initial_id",
   "metadata": {
    "collapsed": true,
    "ExecuteTime": {
     "end_time": "2024-05-08T18:09:54.249081400Z",
     "start_time": "2024-05-08T18:09:54.205207300Z"
    }
   },
   "outputs": [],
   "source": [
    "from deap import creator, tools, base, algorithms\n",
    "import numpy as np\n",
    "import random\n",
    "\n",
    "\n",
    "class Tren:\n",
    "    def __init__(self, numero_vagones, operacion, matricula):\n",
    "        self.numero_vagones = numero_vagones\n",
    "        self.operacion = operacion\n",
    "        self.matricula = matricula\n",
    "\n",
    "    def __str__(self):\n",
    "        return \"Número de vagones: \" + str(self.numero_vagones) + \"\\n\" + \\\n",
    "        \"Muelle de operaciones: \" + str(self.operacion) + \"\\n\" + \\\n",
    "                \"Matrícula: \" + str(self.matricula) + \"\\n\"\n",
    "\n",
    "    \n",
    "\n",
    "\n",
    "def producir_lista_trenes_aleatoria(n, min_vagones, max_vagones):\n",
    "    lista_trenes = []\n",
    "    for i in range(n):\n",
    "        numero_vagones = random.randint(min_vagones, max_vagones)\n",
    "        operacion = random.choice([\"gas\", \"carbón\", \"contenedores\"])\n",
    "        lista_trenes.append(Tren(numero_vagones, operacion, i))\n",
    "    return lista_trenes\n",
    "\n",
    "\n",
    "def crear_cola_de_trenes(lista_de_trenes):\n",
    "    auxiliar = lista_de_trenes\n",
    "    random.shuffle(auxiliar)\n",
    "    return auxiliar\n",
    "\n",
    "\n",
    "class Cola_de_trenes(list):\n",
    "    def __init__(self, lista_de_trenes):\n",
    "        list.extend(self,crear_cola_de_trenes(lista_de_trenes))\n",
    "\n",
    "    def __str__(self):\n",
    "        cadena = \"\"\n",
    "        for i in list(self):\n",
    "            cadena += (str(i) + \"\\n\")\n",
    "        return cadena\n",
    "    \n",
    "\n",
    "random.seed(2024)\n",
    "lista_de_trenes = producir_lista_trenes_aleatoria(50, 10, 30)\n",
    "\n",
    "\n",
    "cola_de_trenes = Cola_de_trenes(lista_de_trenes)"
   ]
  },
  {
   "cell_type": "code",
   "outputs": [],
   "source": [
    "creator.create(\"FitnessMin\", base.Fitness, weights=(-1.0,))\n",
    "\n",
    "creator.create(\"Individual\", Cola_de_trenes, fitness=creator.FitnessMin)"
   ],
   "metadata": {
    "collapsed": false,
    "ExecuteTime": {
     "end_time": "2024-05-08T17:49:44.620046300Z",
     "start_time": "2024-05-08T17:49:44.603496700Z"
    }
   },
   "id": "8fb3044cd0f58b43",
   "execution_count": 2
  },
  {
   "cell_type": "code",
   "outputs": [],
   "source": [
    "toolbox = base.Toolbox()\n",
    "\n",
    "# Crear individuos\n",
    "toolbox.register(\"individual\", tools.initRepeat, creator.Individual, Cola_de_trenes, lista_de_trenes = producir_lista_trenes_aleatoria(50, 10, 30))\n",
    "toolbox.register(\"population\", tools.initRepeat, list, toolbox.individual)"
   ],
   "metadata": {
    "collapsed": false,
    "ExecuteTime": {
     "end_time": "2024-05-08T17:49:45.332190700Z",
     "start_time": "2024-05-08T17:49:45.309984900Z"
    }
   },
   "id": "9b8e7473f9cbd532",
   "execution_count": 3
  },
  {
   "cell_type": "code",
   "outputs": [],
   "source": [
    "\n",
    "def tiempo_total(indiv):\n",
    "    sum = 0 \n",
    "    for tren in indiv:\n",
    "        sum += tren.numero_vagones\n",
    "\n",
    "    return sum\n",
    "\n",
    "\n",
    "\n",
    "def evaluar_cola(individuo):\n",
    "    \n",
    "    muelle_gas = 1\n",
    "    muelle_carbon = 1\n",
    "    muelle_contenedores = 1\n",
    "    id_tren = 0\n",
    "\n",
    "    \n",
    "    for i in range(tiempo_total(individuo)):\n",
    "        muelle_gas -= 1\n",
    "        muelle_carbon -= 1\n",
    "        muelle_contenedores -= 1\n",
    "        \n",
    "        if id_tren >= len(individuo) and muelle_carbon <= 0 and muelle_contenedores <= 0 and muelle_gas <= 0:\n",
    "            break\n",
    "        \n",
    "        for _ in range(3):\n",
    "            \n",
    "            if id_tren >= len(individuo):\n",
    "                break\n",
    "\n",
    "            if individuo[id_tren].operacion == \"carbón\" and muelle_carbon <= 0:\n",
    "                muelle_carbon = individuo[id_tren].numero_vagones\n",
    "                id_tren += 1\n",
    "                continue\n",
    "            if individuo[id_tren].operacion == \"contenedores\" and muelle_contenedores <= 0:\n",
    "                muelle_contenedores = individuo[id_tren].numero_vagones\n",
    "                id_tren += 1\n",
    "                continue\n",
    "                \n",
    "            if individuo[id_tren].operacion == \"gas\" and muelle_gas <= 0:\n",
    "                muelle_gas = individuo[id_tren].numero_vagones\n",
    "                id_tren += 1\n",
    "                continue\n",
    "\n",
    "        continue\n",
    "    return i,\n"
   ],
   "metadata": {
    "collapsed": false,
    "ExecuteTime": {
     "end_time": "2024-05-08T18:47:40.387077700Z",
     "start_time": "2024-05-08T18:47:40.369199Z"
    }
   },
   "id": "f94ff947eeae1f33",
   "execution_count": 20
  },
  {
   "cell_type": "code",
   "outputs": [],
   "source": [
    "toolbox.register(\"evaluate\", evaluar_cola)\n",
    "toolbox.register(\"select\", tools.selTournament, tournsize=3)\n",
    "toolbox.register(\"mate\", tools.cxTwoPoint)\n",
    "toolbox.register(\"mutate\", tools.mutFlipBit, indpb=0.03)"
   ],
   "metadata": {
    "collapsed": false
   },
   "id": "63347ee903020938"
  },
  {
   "cell_type": "code",
   "outputs": [],
   "source": [
    "ranking = tools.HallOfFame(5)\n",
    "estadisticas = tools.Statistics(lambda indiv: indiv.fitness.values)\n",
    "estadisticas.register(\"promedio\", np.mean)\n",
    "estadisticas.register(\"max\", np.max)\n",
    "estadisticas.register(\"min\", np.min)"
   ],
   "metadata": {
    "collapsed": false
   },
   "id": "3b171dfc3ec157a4"
  },
  {
   "cell_type": "code",
   "outputs": [],
   "source": [
    "poblacion = toolbox.population(n=1000)\n",
    "pop, logbook = algorithms.eaSimple(poblacion, toolbox, cxpb=0.5, mutpb=0.2, ngen=35, stats=estadisticas, halloffame=ranking, verbose=True)"
   ],
   "metadata": {
    "collapsed": false
   },
   "id": "dd7567af4303cb18"
  },
  {
   "cell_type": "code",
   "outputs": [],
   "source": [
    "print(f'El mejor individuo es {ranking[0]} con aptitud {ranking[0].fitness}')"
   ],
   "metadata": {
    "collapsed": false
   },
   "id": "7d90fffb22d40893"
  },
  {
   "cell_type": "code",
   "outputs": [],
   "source": [
    "import matplotlib.pyplot as plt\n",
    "\n",
    "\n",
    "gen, prom, min, max = logbook.select(\"gen\", \"promedio\", \"min\", \"max\")\n",
    "\n",
    "plt.plot(gen, prom, label=\"Promedio\")\n",
    "plt.plot(gen, min, label=\"Minimo\")\n",
    "plt.plot(gen, max, label=\"Max\")\n",
    "plt.xlabel(\"Gen\")\n",
    "plt.ylabel(\"Aptitud\")\n",
    "plt.legend(loc=\"lower right\")\n",
    "plt.show()"
   ],
   "metadata": {
    "collapsed": false
   },
   "id": "ea2ec8425bff7b78"
  },
  {
   "cell_type": "code",
   "outputs": [
    {
     "data": {
      "text/plain": "(15,)"
     },
     "execution_count": 21,
     "metadata": {},
     "output_type": "execute_result"
    }
   ],
   "source": [
    "cola1 = Cola_de_trenes(producir_lista_trenes_aleatoria(10, 1, 4))\n",
    "\n",
    "evaluar_cola(cola1)"
   ],
   "metadata": {
    "collapsed": false,
    "ExecuteTime": {
     "end_time": "2024-05-08T18:47:56.338290Z",
     "start_time": "2024-05-08T18:47:56.328877900Z"
    }
   },
   "id": "e4c647d891ecffed",
   "execution_count": 21
  },
  {
   "cell_type": "code",
   "outputs": [
    {
     "name": "stdout",
     "output_type": "stream",
     "text": [
      "Número de vagones: 2\n",
      "Muelle de operaciones: gas\n",
      "Matrícula: 8\n",
      "\n",
      "Número de vagones: 4\n",
      "Muelle de operaciones: carbón\n",
      "Matrícula: 0\n",
      "\n",
      "Número de vagones: 3\n",
      "Muelle de operaciones: gas\n",
      "Matrícula: 9\n",
      "\n",
      "Número de vagones: 3\n",
      "Muelle de operaciones: carbón\n",
      "Matrícula: 3\n",
      "\n",
      "Número de vagones: 2\n",
      "Muelle de operaciones: contenedores\n",
      "Matrícula: 1\n",
      "\n",
      "Número de vagones: 1\n",
      "Muelle de operaciones: carbón\n",
      "Matrícula: 5\n",
      "\n",
      "Número de vagones: 2\n",
      "Muelle de operaciones: contenedores\n",
      "Matrícula: 2\n",
      "\n",
      "Número de vagones: 3\n",
      "Muelle de operaciones: carbón\n",
      "Matrícula: 4\n",
      "\n",
      "Número de vagones: 3\n",
      "Muelle de operaciones: contenedores\n",
      "Matrícula: 7\n",
      "\n",
      "Número de vagones: 4\n",
      "Muelle de operaciones: carbón\n",
      "Matrícula: 6\n"
     ]
    }
   ],
   "source": [
    "print(cola1)"
   ],
   "metadata": {
    "collapsed": false,
    "ExecuteTime": {
     "end_time": "2024-05-08T18:47:58.422536600Z",
     "start_time": "2024-05-08T18:47:58.414980800Z"
    }
   },
   "id": "3b65cc31e9dae844",
   "execution_count": 22
  },
  {
   "cell_type": "code",
   "outputs": [],
   "source": [],
   "metadata": {
    "collapsed": false
   },
   "id": "322825c36e0c3f9d"
  }
 ],
 "metadata": {
  "kernelspec": {
   "display_name": "Python 3",
   "language": "python",
   "name": "python3"
  },
  "language_info": {
   "codemirror_mode": {
    "name": "ipython",
    "version": 2
   },
   "file_extension": ".py",
   "mimetype": "text/x-python",
   "name": "python",
   "nbconvert_exporter": "python",
   "pygments_lexer": "ipython2",
   "version": "2.7.6"
  }
 },
 "nbformat": 4,
 "nbformat_minor": 5
}
