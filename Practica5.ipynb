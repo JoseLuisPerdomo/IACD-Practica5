{
 "cells": [
  {
   "cell_type": "markdown",
   "source": [
    "# Practica 5"
   ],
   "metadata": {
    "collapsed": false
   },
   "id": "828d52564c3a2951"
  },
  {
   "cell_type": "code",
   "execution_count": 53,
   "id": "initial_id",
   "metadata": {
    "collapsed": true,
    "ExecuteTime": {
     "end_time": "2024-05-09T12:47:17.783683100Z",
     "start_time": "2024-05-09T12:47:17.697383500Z"
    }
   },
   "outputs": [],
   "source": [
    "from deap import creator, tools, base, algorithms\n",
    "import numpy as np\n",
    "import random\n",
    "\n",
    "\n",
    "class Tren:\n",
    "    def __init__(self, numero_vagones, operacion, matricula):\n",
    "        self.numero_vagones = numero_vagones\n",
    "        self.operacion = operacion\n",
    "        self.matricula = matricula\n",
    "\n",
    "    def __str__(self):\n",
    "        return \"Número de vagones: \" + str(self.numero_vagones) + \"\\n\" + \\\n",
    "        \"Muelle de operaciones: \" + str(self.operacion) + \"\\n\" + \\\n",
    "                \"Matrícula: \" + str(self.matricula) + \"\\n\"\n",
    "\n",
    "    \n",
    "\n",
    "\n",
    "def producir_lista_trenes_aleatoria(n, min_vagones, max_vagones):\n",
    "    lista_trenes = []\n",
    "    for i in range(n):\n",
    "        numero_vagones = random.randint(min_vagones, max_vagones)\n",
    "        operacion = random.choice([\"gas\", \"carbón\", \"contenedores\"])\n",
    "        lista_trenes.append(Tren(numero_vagones, operacion, i))\n",
    "    return lista_trenes\n",
    "\n",
    "\n",
    "def crear_cola_de_trenes(lista_de_trenes):\n",
    "    auxiliar = lista_de_trenes\n",
    "    random.shuffle(auxiliar)\n",
    "    return auxiliar\n",
    "\n",
    "\n",
    "class Cola_de_trenes(list):\n",
    "    def __init__(self, lista_de_trenes):\n",
    "        list.extend(self,crear_cola_de_trenes(lista_de_trenes))\n",
    "\n",
    "    def __str__(self):\n",
    "        cadena = \"\"\n",
    "        for i in list(self):\n",
    "            cadena += (str(i) + \"\\n\")\n",
    "        return cadena\n",
    "    \n",
    "\n",
    "random.seed(2024)\n",
    "lista_de_trenes = producir_lista_trenes_aleatoria(50, 10, 30)\n",
    "\n",
    "\n",
    "cola_de_trenes = Cola_de_trenes(lista_de_trenes)"
   ]
  },
  {
   "cell_type": "code",
   "outputs": [
    {
     "name": "stderr",
     "output_type": "stream",
     "text": [
      "C:\\Users\\Usuario\\PycharmProjects\\vent\\Lib\\site-packages\\deap\\creator.py:185: RuntimeWarning: A class named 'FitnessMin' has already been created and it will be overwritten. Consider deleting previous creation of that class or rename it.\n",
      "  warnings.warn(\"A class named '{0}' has already been created and it \"\n",
      "C:\\Users\\Usuario\\PycharmProjects\\vent\\Lib\\site-packages\\deap\\creator.py:185: RuntimeWarning: A class named 'Individual' has already been created and it will be overwritten. Consider deleting previous creation of that class or rename it.\n",
      "  warnings.warn(\"A class named '{0}' has already been created and it \"\n"
     ]
    }
   ],
   "source": [
    "creator.create(\"FitnessMin\", base.Fitness, weights=(-1.0,))\n",
    "\n",
    "creator.create(\"Individual\", Cola_de_trenes, fitness=creator.FitnessMin)"
   ],
   "metadata": {
    "collapsed": false,
    "ExecuteTime": {
     "end_time": "2024-05-09T12:47:17.786683200Z",
     "start_time": "2024-05-09T12:47:17.760564800Z"
    }
   },
   "id": "8fb3044cd0f58b43",
   "execution_count": 54
  },
  {
   "cell_type": "code",
   "outputs": [],
   "source": [
    "toolbox = base.Toolbox()\n",
    "\n",
    "# Crear individuos\n",
    "toolbox.register(\"individual\", creator.Individual, producir_lista_trenes_aleatoria(50, 10, 30))\n",
    "toolbox.register(\"population\", tools.initRepeat, list, toolbox.individual)"
   ],
   "metadata": {
    "collapsed": false,
    "ExecuteTime": {
     "end_time": "2024-05-09T12:47:17.830016800Z",
     "start_time": "2024-05-09T12:47:17.789685Z"
    }
   },
   "id": "9b8e7473f9cbd532",
   "execution_count": 55
  },
  {
   "cell_type": "code",
   "outputs": [],
   "source": [
    "\n",
    "def tiempo_total(indiv):\n",
    "    sum = 0 \n",
    "    for tren in indiv:\n",
    "        sum += tren.numero_vagones\n",
    "\n",
    "    return sum\n",
    "\n",
    "\n",
    "\n",
    "def evaluar_cola(individuo):\n",
    "    \n",
    "    muelle_gas = 1\n",
    "    muelle_carbon = 1\n",
    "    muelle_contenedores = 1\n",
    "    id_tren = 0\n",
    "\n",
    "    \n",
    "    for i in range(tiempo_total(individuo)):\n",
    "        muelle_gas -= 1\n",
    "        muelle_carbon -= 1\n",
    "        muelle_contenedores -= 1\n",
    "        \n",
    "        if id_tren >= len(individuo) and muelle_carbon <= 0 and muelle_contenedores <= 0 and muelle_gas <= 0:\n",
    "            break\n",
    "        \n",
    "        for _ in range(3):\n",
    "            \n",
    "            if id_tren >= len(individuo):\n",
    "                break\n",
    "\n",
    "            if individuo[id_tren].operacion == \"carbón\" and muelle_carbon <= 0:\n",
    "                muelle_carbon = individuo[id_tren].numero_vagones\n",
    "                id_tren += 1\n",
    "                continue\n",
    "            if individuo[id_tren].operacion == \"contenedores\" and muelle_contenedores <= 0:\n",
    "                muelle_contenedores = individuo[id_tren].numero_vagones\n",
    "                id_tren += 1\n",
    "                continue\n",
    "                \n",
    "            if individuo[id_tren].operacion == \"gas\" and muelle_gas <= 0:\n",
    "                muelle_gas = individuo[id_tren].numero_vagones\n",
    "                id_tren += 1\n",
    "                continue\n",
    "\n",
    "        continue\n",
    "    return i,\n"
   ],
   "metadata": {
    "collapsed": false,
    "ExecuteTime": {
     "end_time": "2024-05-09T12:47:17.851016900Z",
     "start_time": "2024-05-09T12:47:17.823862800Z"
    }
   },
   "id": "f94ff947eeae1f33",
   "execution_count": 56
  },
  {
   "cell_type": "code",
   "outputs": [],
   "source": [
    "def train_swap(indivuduo, indpb):\n",
    "    if random.random() < indpb:\n",
    "        pos1 = random.randint(0, len(indivuduo) - 1)\n",
    "        pos2 = random.randint(0, len(indivuduo) - 1)\n",
    "        \n",
    "        train1 = indivuduo[pos1]\n",
    "        train2 = indivuduo[pos2]\n",
    "        indivuduo[pos1] = train2\n",
    "        indivuduo[pos2] = train1\n",
    "        \n",
    "    return indivuduo,\n",
    "        \n",
    "        \n",
    "        "
   ],
   "metadata": {
    "collapsed": false,
    "ExecuteTime": {
     "end_time": "2024-05-09T12:49:28.087387900Z",
     "start_time": "2024-05-09T12:49:28.043091800Z"
    }
   },
   "id": "b64646e8922cabdb",
   "execution_count": 64
  },
  {
   "cell_type": "code",
   "outputs": [],
   "source": [
    "# Funcion de cruce"
   ],
   "metadata": {
    "collapsed": false
   },
   "id": "1f8b81f73cd0766b"
  },
  {
   "cell_type": "code",
   "outputs": [],
   "source": [
    "toolbox.register(\"evaluate\", evaluar_cola)\n",
    "toolbox.register(\"select\", tools.selTournament, tournsize=3)\n",
    "toolbox.register(\"mate\", tools.cxTwoPoint)\n",
    "toolbox.register(\"mutate\", train_swap, indpb=0.03)"
   ],
   "metadata": {
    "collapsed": false,
    "ExecuteTime": {
     "end_time": "2024-05-09T12:49:49.395073300Z",
     "start_time": "2024-05-09T12:49:49.351683600Z"
    }
   },
   "id": "63347ee903020938",
   "execution_count": 70
  },
  {
   "cell_type": "code",
   "outputs": [],
   "source": [
    "ranking = tools.HallOfFame(5)\n",
    "estadisticas = tools.Statistics(lambda indiv: indiv.fitness.values)\n",
    "estadisticas.register(\"promedio\", np.mean)\n",
    "estadisticas.register(\"max\", np.max)\n",
    "estadisticas.register(\"min\", np.min)"
   ],
   "metadata": {
    "collapsed": false,
    "ExecuteTime": {
     "end_time": "2024-05-09T12:49:49.940994200Z",
     "start_time": "2024-05-09T12:49:49.932611800Z"
    }
   },
   "id": "3b171dfc3ec157a4",
   "execution_count": 71
  },
  {
   "cell_type": "code",
   "outputs": [
    {
     "name": "stdout",
     "output_type": "stream",
     "text": [
      "gen\tnevals\tpromedio\tmax\tmin\n",
      "0  \t1000  \t549.281 \t685\t448\n",
      "1  \t598   \t517.386 \t629\t423\n",
      "2  \t623   \t493.551 \t590\t401\n",
      "3  \t590   \t474.077 \t559\t408\n",
      "4  \t590   \t457.211 \t534\t385\n",
      "5  \t603   \t442.62  \t514\t370\n",
      "6  \t559   \t428.436 \t501\t366\n",
      "7  \t581   \t416.214 \t491\t360\n",
      "8  \t629   \t405.299 \t463\t359\n",
      "9  \t642   \t394.056 \t465\t342\n",
      "10 \t614   \t383.68  \t463\t331\n",
      "11 \t572   \t374.31  \t432\t321\n",
      "12 \t615   \t366.252 \t422\t320\n",
      "13 \t596   \t358.177 \t419\t320\n",
      "14 \t609   \t349.339 \t401\t307\n",
      "15 \t619   \t341.582 \t393\t301\n",
      "16 \t611   \t334.609 \t383\t299\n",
      "17 \t614   \t328.347 \t390\t299\n",
      "18 \t631   \t321.802 \t374\t285\n",
      "19 \t600   \t316.372 \t372\t281\n",
      "20 \t579   \t309.616 \t355\t281\n",
      "21 \t626   \t304.14  \t355\t278\n",
      "22 \t612   \t298.445 \t356\t276\n",
      "23 \t583   \t292.446 \t339\t274\n",
      "24 \t572   \t288.058 \t319\t267\n",
      "25 \t621   \t284.252 \t318\t266\n",
      "26 \t563   \t280.008 \t312\t266\n",
      "27 \t580   \t277.024 \t313\t259\n",
      "28 \t609   \t273.733 \t297\t259\n",
      "29 \t585   \t270.622 \t298\t255\n",
      "30 \t592   \t267.655 \t309\t254\n",
      "31 \t579   \t264.838 \t296\t251\n",
      "32 \t629   \t261.94  \t295\t246\n",
      "33 \t594   \t259.271 \t287\t246\n",
      "34 \t593   \t256.914 \t277\t246\n",
      "35 \t562   \t254.314 \t292\t240\n"
     ]
    }
   ],
   "source": [
    "poblacion = toolbox.population(n=1000)\n",
    "pop, logbook = algorithms.eaSimple(poblacion, toolbox, cxpb=0.5, mutpb=0.2, ngen=35, stats=estadisticas, halloffame=ranking, verbose=True)"
   ],
   "metadata": {
    "collapsed": false,
    "ExecuteTime": {
     "end_time": "2024-05-09T12:50:25.840796100Z",
     "start_time": "2024-05-09T12:50:03.708657100Z"
    }
   },
   "id": "dd7567af4303cb18",
   "execution_count": 75
  },
  {
   "cell_type": "code",
   "outputs": [
    {
     "name": "stdout",
     "output_type": "stream",
     "text": [
      "El mejor individuo es \n",
      " Número de vagones: 11\n",
      "Muelle de operaciones: gas\n",
      "Matrícula: 10\n",
      "\n",
      "Número de vagones: 16\n",
      "Muelle de operaciones: contenedores\n",
      "Matrícula: 14\n",
      "\n",
      "Número de vagones: 13\n",
      "Muelle de operaciones: carbón\n",
      "Matrícula: 8\n",
      "\n",
      "Número de vagones: 15\n",
      "Muelle de operaciones: carbón\n",
      "Matrícula: 26\n",
      "\n",
      "Número de vagones: 10\n",
      "Muelle de operaciones: gas\n",
      "Matrícula: 30\n",
      "\n",
      "Número de vagones: 13\n",
      "Muelle de operaciones: contenedores\n",
      "Matrícula: 1\n",
      "\n",
      "Número de vagones: 11\n",
      "Muelle de operaciones: gas\n",
      "Matrícula: 10\n",
      "\n",
      "Número de vagones: 16\n",
      "Muelle de operaciones: carbón\n",
      "Matrícula: 20\n",
      "\n",
      "Número de vagones: 14\n",
      "Muelle de operaciones: contenedores\n",
      "Matrícula: 0\n",
      "\n",
      "Número de vagones: 11\n",
      "Muelle de operaciones: gas\n",
      "Matrícula: 10\n",
      "\n",
      "Número de vagones: 14\n",
      "Muelle de operaciones: contenedores\n",
      "Matrícula: 0\n",
      "\n",
      "Número de vagones: 15\n",
      "Muelle de operaciones: carbón\n",
      "Matrícula: 24\n",
      "\n",
      "Número de vagones: 11\n",
      "Muelle de operaciones: gas\n",
      "Matrícula: 10\n",
      "\n",
      "Número de vagones: 20\n",
      "Muelle de operaciones: contenedores\n",
      "Matrícula: 29\n",
      "\n",
      "Número de vagones: 10\n",
      "Muelle de operaciones: gas\n",
      "Matrícula: 28\n",
      "\n",
      "Número de vagones: 15\n",
      "Muelle de operaciones: carbón\n",
      "Matrícula: 24\n",
      "\n",
      "Número de vagones: 10\n",
      "Muelle de operaciones: gas\n",
      "Matrícula: 28\n",
      "\n",
      "Número de vagones: 10\n",
      "Muelle de operaciones: carbón\n",
      "Matrícula: 44\n",
      "\n",
      "Número de vagones: 11\n",
      "Muelle de operaciones: gas\n",
      "Matrícula: 32\n",
      "\n",
      "Número de vagones: 10\n",
      "Muelle de operaciones: contenedores\n",
      "Matrícula: 37\n",
      "\n",
      "Número de vagones: 16\n",
      "Muelle de operaciones: carbón\n",
      "Matrícula: 20\n",
      "\n",
      "Número de vagones: 18\n",
      "Muelle de operaciones: contenedores\n",
      "Matrícula: 39\n",
      "\n",
      "Número de vagones: 11\n",
      "Muelle de operaciones: gas\n",
      "Matrícula: 10\n",
      "\n",
      "Número de vagones: 10\n",
      "Muelle de operaciones: carbón\n",
      "Matrícula: 44\n",
      "\n",
      "Número de vagones: 10\n",
      "Muelle de operaciones: gas\n",
      "Matrícula: 28\n",
      "\n",
      "Número de vagones: 10\n",
      "Muelle de operaciones: gas\n",
      "Matrícula: 9\n",
      "\n",
      "Número de vagones: 15\n",
      "Muelle de operaciones: carbón\n",
      "Matrícula: 24\n",
      "\n",
      "Número de vagones: 20\n",
      "Muelle de operaciones: contenedores\n",
      "Matrícula: 38\n",
      "\n",
      "Número de vagones: 11\n",
      "Muelle de operaciones: gas\n",
      "Matrícula: 10\n",
      "\n",
      "Número de vagones: 10\n",
      "Muelle de operaciones: carbón\n",
      "Matrícula: 44\n",
      "\n",
      "Número de vagones: 18\n",
      "Muelle de operaciones: contenedores\n",
      "Matrícula: 39\n",
      "\n",
      "Número de vagones: 10\n",
      "Muelle de operaciones: gas\n",
      "Matrícula: 28\n",
      "\n",
      "Número de vagones: 10\n",
      "Muelle de operaciones: gas\n",
      "Matrícula: 30\n",
      "\n",
      "Número de vagones: 10\n",
      "Muelle de operaciones: carbón\n",
      "Matrícula: 44\n",
      "\n",
      "Número de vagones: 15\n",
      "Muelle de operaciones: gas\n",
      "Matrícula: 40\n",
      "\n",
      "Número de vagones: 14\n",
      "Muelle de operaciones: contenedores\n",
      "Matrícula: 0\n",
      "\n",
      "Número de vagones: 13\n",
      "Muelle de operaciones: carbón\n",
      "Matrícula: 8\n",
      "\n",
      "Número de vagones: 16\n",
      "Muelle de operaciones: carbón\n",
      "Matrícula: 20\n",
      "\n",
      "Número de vagones: 16\n",
      "Muelle de operaciones: contenedores\n",
      "Matrícula: 13\n",
      "\n",
      "Número de vagones: 10\n",
      "Muelle de operaciones: gas\n",
      "Matrícula: 9\n",
      "\n",
      "Número de vagones: 15\n",
      "Muelle de operaciones: gas\n",
      "Matrícula: 40\n",
      "\n",
      "Número de vagones: 10\n",
      "Muelle de operaciones: contenedores\n",
      "Matrícula: 37\n",
      "\n",
      "Número de vagones: 15\n",
      "Muelle de operaciones: carbón\n",
      "Matrícula: 26\n",
      "\n",
      "Número de vagones: 16\n",
      "Muelle de operaciones: carbón\n",
      "Matrícula: 20\n",
      "\n",
      "Número de vagones: 10\n",
      "Muelle de operaciones: gas\n",
      "Matrícula: 9\n",
      "\n",
      "Número de vagones: 13\n",
      "Muelle de operaciones: contenedores\n",
      "Matrícula: 1\n",
      "\n",
      "Número de vagones: 10\n",
      "Muelle de operaciones: gas\n",
      "Matrícula: 30\n",
      "\n",
      "Número de vagones: 10\n",
      "Muelle de operaciones: gas\n",
      "Matrícula: 28\n",
      "\n",
      "Número de vagones: 24\n",
      "Muelle de operaciones: contenedores\n",
      "Matrícula: 27\n",
      "\n",
      "Número de vagones: 11\n",
      "Muelle de operaciones: gas\n",
      "Matrícula: 32\n",
      "\n",
      " con aptitud (240.0,)\n"
     ]
    }
   ],
   "source": [
    "print(f'El mejor individuo es \\n {ranking[0]} con aptitud {ranking[0].fitness}')"
   ],
   "metadata": {
    "collapsed": false,
    "ExecuteTime": {
     "end_time": "2024-05-09T12:50:28.268459400Z",
     "start_time": "2024-05-09T12:50:28.260355300Z"
    }
   },
   "id": "7d90fffb22d40893",
   "execution_count": 76
  },
  {
   "cell_type": "code",
   "outputs": [
    {
     "data": {
      "text/plain": "<Figure size 640x480 with 1 Axes>",
      "image/png": "[encoded data removed]"
     },
     "metadata": {},
     "output_type": "display_data"
    }
   ],
   "source": [
    "import matplotlib.pyplot as plt\n",
    "\n",
    "\n",
    "gen, prom, min, max = logbook.select(\"gen\", \"promedio\", \"min\", \"max\")\n",
    "\n",
    "plt.plot(gen, prom, label=\"Promedio\")\n",
    "plt.plot(gen, min, label=\"Minimo\")\n",
    "plt.plot(gen, max, label=\"Max\")\n",
    "plt.xlabel(\"Gen\")\n",
    "plt.ylabel(\"Aptitud\")\n",
    "plt.legend(loc=\"upper right\")\n",
    "plt.show()"
   ],
   "metadata": {
    "collapsed": false,
    "ExecuteTime": {
     "end_time": "2024-05-09T12:50:30.108924500Z",
     "start_time": "2024-05-09T12:50:29.960652500Z"
    }
   },
   "id": "ea2ec8425bff7b78",
   "execution_count": 77
  },
  {
   "cell_type": "code",
   "outputs": [],
   "source": [],
   "metadata": {
    "collapsed": false,
    "ExecuteTime": {
     "end_time": "2024-05-09T12:47:20.558817600Z",
     "start_time": "2024-05-09T12:47:20.545105200Z"
    }
   },
   "id": "301d9c878524c7df",
   "execution_count": 62
  }
 ],
 "metadata": {
  "kernelspec": {
   "display_name": "Python 3",
   "language": "python",
   "name": "python3"
  },
  "language_info": {
   "codemirror_mode": {
    "name": "ipython",
    "version": 2
   },
   "file_extension": ".py",
   "mimetype": "text/x-python",
   "name": "python",
   "nbconvert_exporter": "python",
   "pygments_lexer": "ipython2",
   "version": "2.7.6"
  }
 },
 "nbformat": 4,
 "nbformat_minor": 5
}
