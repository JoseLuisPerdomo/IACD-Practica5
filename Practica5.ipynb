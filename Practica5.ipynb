{
 "cells": [
  {
   "cell_type": "markdown",
   "source": [
    "# Practica 5"
   ],
   "metadata": {
    "collapsed": false
   },
   "id": "828d52564c3a2951"
  },
  {
   "cell_type": "code",
   "execution_count": null,
   "id": "initial_id",
   "metadata": {
    "collapsed": true
   },
   "outputs": [],
   "source": [
    "from deap import creator, tools, base, algorithms\n",
    "import numpy as np\n",
    "import random\n",
    "\n",
    "\n",
    "class Tren:\n",
    "    def __init__(self, numero_vagones, operacion, matricula):\n",
    "        self.numero_vagones = numero_vagones\n",
    "        self.operacion = operacion\n",
    "        self.matricula = matricula\n",
    "\n",
    "    def __str__(self):\n",
    "        return \"Número de vagones: \" + str(self.numero_vagones) + \"\\n\" + \\\n",
    "        \"Muelle de operaciones: \" + str(self.operacion) + \"\\n\" + \\\n",
    "                \"Matrícula: \" + str(self.matricula) + \"\\n\"\n",
    "    \n",
    "\n",
    "\n",
    "def producir_lista_trenes_aleatoria(n, min_vagones, max_vagones):\n",
    "    lista_trenes = []\n",
    "    for i in range(n):\n",
    "        numero_vagones = random.randint(min_vagones, max_vagones)\n",
    "        operacion = random.choice([\"gas\", \"carbón\", \"contenedores\"])\n",
    "        lista_trenes.append(Tren(numero_vagones, operacion, i))\n",
    "    return lista_trenes\n",
    "\n",
    "\n",
    "def crear_cola_de_trenes(lista_de_trenes):\n",
    "    auxiliar = lista_de_trenes\n",
    "    random.shuffle(auxiliar)\n",
    "    return auxiliar\n",
    "\n",
    "\n",
    "class Cola_de_trenes(list):\n",
    "    def __init__(self, lista_de_trenes):\n",
    "        list.extend(self,crear_cola_de_trenes(lista_de_trenes))\n",
    "\n",
    "    def __str__(self):\n",
    "        cadena = \"\"\n",
    "        for i in list(self):\n",
    "            cadena += (str(i) + \"\\n\")\n",
    "        return cadena\n",
    "    \n",
    "\n",
    "random.seed(2024)\n",
    "lista_de_trenes = producir_lista_trenes_aleatoria(50, 10, 30)\n",
    "\n",
    "\n",
    "cola_de_trenes = Cola_de_trenes(lista_de_trenes)"
   ]
  },
  {
   "cell_type": "code",
   "outputs": [],
   "source": [
    "creator.create(\"FitnessMin\", base.Fitness, weights=(-1.0,))\n",
    "\n",
    "creator.create(\"Individual\", Cola_de_trenes, fitness=creator.FitnessMin)"
   ],
   "metadata": {
    "collapsed": false
   },
   "id": "8fb3044cd0f58b43"
  },
  {
   "cell_type": "code",
   "outputs": [],
   "source": [
    "toolbox = base.Toolbox()\n",
    "\n",
    "# Crear individuos\n",
    "toolbox.register(\"individual\", tools.initRepeat, creator.Individual, Cola_de_trenes, lista_de_trenes = producir_lista_trenes_aleatoria(50, 10, 30))\n",
    "toolbox.register(\"population\", tools.initRepeat, list, toolbox.individual)"
   ],
   "metadata": {
    "collapsed": false
   },
   "id": "9b8e7473f9cbd532"
  },
  {
   "cell_type": "code",
   "outputs": [],
   "source": [
    "def evaluar_cola(individuo):\n",
    "    return np.sum(individuo),\n",
    "\n",
    "\n",
    "toolbox.register(\"evaluate\", evaluar_cola)\n",
    "toolbox.register(\"select\", tools.selTournament, tournsize=3)\n",
    "toolbox.register(\"mate\", tools.cxTwoPoint)\n",
    "toolbox.register(\"mutate\", tools.mutFlipBit, indpb=0.03)"
   ],
   "metadata": {
    "collapsed": false
   },
   "id": "f94ff947eeae1f33"
  },
  {
   "cell_type": "code",
   "outputs": [],
   "source": [
    "ranking = tools.HallOfFame(5)\n",
    "estadisticas = tools.Statistics(lambda indiv: indiv.fitness.values)\n",
    "estadisticas.register(\"promedio\", np.mean)\n",
    "estadisticas.register(\"max\", np.max)\n",
    "estadisticas.register(\"min\", np.min)"
   ],
   "metadata": {
    "collapsed": false
   },
   "id": "3b171dfc3ec157a4"
  },
  {
   "cell_type": "code",
   "outputs": [],
   "source": [
    "poblacion = toolbox.population(n=1000)\n",
    "pop, logbook = algorithms.eaSimple(poblacion, toolbox, cxpb=0.5, mutpb=0.2, ngen=35, stats=estadisticas, halloffame=ranking, verbose=True)"
   ],
   "metadata": {
    "collapsed": false
   },
   "id": "dd7567af4303cb18"
  },
  {
   "cell_type": "code",
   "outputs": [],
   "source": [
    "print(f'El mejor individuo es {ranking[0]} con aptitud {ranking[0].fitness}')"
   ],
   "metadata": {
    "collapsed": false
   },
   "id": "7d90fffb22d40893"
  },
  {
   "cell_type": "code",
   "outputs": [],
   "source": [
    "import matplotlib.pyplot as plt\n",
    "\n",
    "\n",
    "gen, prom, min, max = logbook.select(\"gen\", \"promedio\", \"min\", \"max\")\n",
    "\n",
    "plt.plot(gen, prom, label=\"Promedio\")\n",
    "plt.plot(gen, min, label=\"Minimo\")\n",
    "plt.plot(gen, max, label=\"Max\")\n",
    "plt.xlabel(\"Gen\")\n",
    "plt.ylabel(\"Aptitud\")\n",
    "plt.legend(loc=\"lower right\")\n",
    "plt.show()"
   ],
   "metadata": {
    "collapsed": false
   },
   "id": "ea2ec8425bff7b78"
  }
 ],
 "metadata": {
  "kernelspec": {
   "display_name": "Python 3",
   "language": "python",
   "name": "python3"
  },
  "language_info": {
   "codemirror_mode": {
    "name": "ipython",
    "version": 2
   },
   "file_extension": ".py",
   "mimetype": "text/x-python",
   "name": "python",
   "nbconvert_exporter": "python",
   "pygments_lexer": "ipython2",
   "version": "2.7.6"
  }
 },
 "nbformat": 4,
 "nbformat_minor": 5
}
