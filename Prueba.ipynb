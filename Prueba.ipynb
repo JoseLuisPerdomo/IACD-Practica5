{
 "cells": [
  {
   "cell_type": "markdown",
   "source": [
    "# Algoritmos genéticos\n",
    "\n",
    "- Como usar la libreria *deap* (Solución de un problema simple)\n",
    "- Individuos representados con vector de 100 bits\n",
    "- El individuo con más unos es mejor\n",
    "\n",
    "*[0, 1, 0] < [0, 1, 1] < [1, 1, 1]*"
   ],
   "metadata": {
    "collapsed": false
   },
   "id": "6b5ad7c23d75d614"
  },
  {
   "cell_type": "markdown",
   "source": [
    "**Ejemplo de la idea sin libreria**"
   ],
   "metadata": {
    "collapsed": false
   },
   "id": "19e22805767d4228"
  },
  {
   "cell_type": "code",
   "execution_count": 2,
   "id": "initial_id",
   "metadata": {
    "collapsed": true,
    "ExecuteTime": {
     "end_time": "2024-05-08T15:48:42.541285100Z",
     "start_time": "2024-05-08T15:48:30.971096700Z"
    }
   },
   "outputs": [
    {
     "name": "stdout",
     "output_type": "stream",
     "text": [
      "37\n",
      "[0 1 1 1 0 1 1 1 1 0 0 1 1 0 1 1 1 1 0 0 1 1 1 1 0 1 0 1 0 0 0 1 1 0 1 0 1\n",
      " 1 0 1 1 1 1 1 1 1 1 1 1 1 1 0 0 1 0 1 1 1 1 1 1 1 1 1 1 1 0 1 1 1 1 1 1 1\n",
      " 1 0 1 1 1 1 1 1 1 1 1 1 1 0 1 1 1 1 1 0 1 0 1 1 0 1]\n"
     ]
    }
   ],
   "source": [
    "from deap import creator, tools, base, algorithms\n",
    "import numpy as np\n",
    "import random\n",
    "\n",
    "maximo = np.random.randint(0, 2, 100)\n",
    "maximo = np.sum(maximo)\n",
    "\n",
    "\n",
    "for _ in range(1000000):\n",
    "    vector = np.random.randint(0, 2, 100)\n",
    "    sum = np.sum(vector)\n",
    "    if sum > maximo:\n",
    "        maximo = sum\n",
    "        mejor_vector = vector\n",
    "        \n",
    "print(sum)\n",
    "print(mejor_vector)\n"
   ]
  },
  {
   "cell_type": "markdown",
   "source": [
    "**Ejemplo usando la librería**"
   ],
   "metadata": {
    "collapsed": false
   },
   "id": "d69ce27ce63b9a93"
  },
  {
   "cell_type": "markdown",
   "source": [
    "Creamos la función de aptitud\n",
    "Y creamos un individuo que hereda de la clase list (Porque será la forma de representar"
   ],
   "metadata": {
    "collapsed": false
   },
   "id": "c47da67f0023d88"
  },
  {
   "cell_type": "code",
   "outputs": [
    {
     "name": "stderr",
     "output_type": "stream",
     "text": [
      "C:\\Users\\Usuario\\PycharmProjects\\vent\\Lib\\site-packages\\deap\\creator.py:185: RuntimeWarning: A class named 'FitnessMax' has already been created and it will be overwritten. Consider deleting previous creation of that class or rename it.\n",
      "  warnings.warn(\"A class named '{0}' has already been created and it \"\n",
      "C:\\Users\\Usuario\\PycharmProjects\\vent\\Lib\\site-packages\\deap\\creator.py:185: RuntimeWarning: A class named 'Individual' has already been created and it will be overwritten. Consider deleting previous creation of that class or rename it.\n",
      "  warnings.warn(\"A class named '{0}' has already been created and it \"\n"
     ]
    }
   ],
   "source": [
    "creator.create(\"FitnessMax\", base.Fitness, weights=(1.0,))\n",
    "\n",
    "creator.create(\"Individual\", list, fitness=creator.FitnessMax)"
   ],
   "metadata": {
    "collapsed": false,
    "ExecuteTime": {
     "end_time": "2024-05-08T10:25:40.311528100Z",
     "start_time": "2024-05-08T10:25:40.301922800Z"
    }
   },
   "id": "886955ff613541ed",
   "execution_count": 17
  },
  {
   "cell_type": "markdown",
   "source": [
    "Crear sinonimo de la función que creará los individuos."
   ],
   "metadata": {
    "collapsed": false
   },
   "id": "36b5847a3b0bd234"
  },
  {
   "cell_type": "code",
   "outputs": [],
   "source": [
    "toolbox = base.Toolbox()\n",
    "toolbox.register(\"atr_bool\", random.randint, 0, 1)\n",
    "\n",
    "# Crear individuos\n",
    "toolbox.register(\"individual\", tools.initRepeat, creator.Individual, toolbox.atr_bool, n = 100)"
   ],
   "metadata": {
    "collapsed": false,
    "ExecuteTime": {
     "end_time": "2024-05-08T10:25:58.313679Z",
     "start_time": "2024-05-08T10:25:58.298776300Z"
    }
   },
   "id": "57eb3b03effc494e",
   "execution_count": 19
  },
  {
   "cell_type": "code",
   "outputs": [],
   "source": [
    "# Crear población\n",
    "\n",
    "toolbox.register(\"population\", tools.initRepeat, list, toolbox.individual)"
   ],
   "metadata": {
    "collapsed": false,
    "ExecuteTime": {
     "end_time": "2024-05-08T10:27:58.098317Z",
     "start_time": "2024-05-08T10:27:58.089054300Z"
    }
   },
   "id": "348edff28d63a27",
   "execution_count": 22
  },
  {
   "cell_type": "code",
   "outputs": [
    {
     "name": "stdout",
     "output_type": "stream",
     "text": [
      "0\n"
     ]
    }
   ],
   "source": [
    "bit = toolbox.atr_bool()\n",
    "print(bit)"
   ],
   "metadata": {
    "collapsed": false,
    "ExecuteTime": {
     "end_time": "2024-05-08T10:29:16.414078300Z",
     "start_time": "2024-05-08T10:29:16.409285100Z"
    }
   },
   "id": "6dca0120dbc84a12",
   "execution_count": 25
  },
  {
   "cell_type": "code",
   "outputs": [
    {
     "name": "stdout",
     "output_type": "stream",
     "text": [
      "100\n"
     ]
    }
   ],
   "source": [
    "individuo = toolbox.individual()\n",
    "print(len(individuo))"
   ],
   "metadata": {
    "collapsed": false,
    "ExecuteTime": {
     "end_time": "2024-05-08T10:31:01.877642Z",
     "start_time": "2024-05-08T10:31:01.861580100Z"
    }
   },
   "id": "ce2fb5ae4f96e734",
   "execution_count": 28
  },
  {
   "cell_type": "code",
   "outputs": [
    {
     "name": "stdout",
     "output_type": "stream",
     "text": [
      "Longitud de la populacion: 1000, longitud de cada individuo: 100\n"
     ]
    }
   ],
   "source": [
    "poblacion = toolbox.population(n = 1000)\n",
    "print(f'Longitud de la populacion: {len(poblacion)}, longitud de cada individuo: {len(poblacion[0])}')"
   ],
   "metadata": {
    "collapsed": false,
    "ExecuteTime": {
     "end_time": "2024-05-08T10:32:12.158933Z",
     "start_time": "2024-05-08T10:32:12.101693800Z"
    }
   },
   "id": "fe1259cbe050a80f",
   "execution_count": 29
  },
  {
   "cell_type": "markdown",
   "source": [
    "**Función objetivo, selección, cruce y mutacion**"
   ],
   "metadata": {
    "collapsed": false
   },
   "id": "5a896bd4eb8dd9"
  },
  {
   "cell_type": "code",
   "outputs": [],
   "source": [
    "def evaluar_oneMax(individuo):\n",
    "    return np.sum(individuo),\n",
    "\n",
    "toolbox.register(\"evaluate\", evaluar_oneMax)\n",
    "toolbox.register(\"select\", tools.selTournament, tournsize=3)\n",
    "toolbox.register(\"mate\", tools.cxTwoPoint)\n",
    "toolbox.register(\"mutate\", tools.mutFlipBit, indpb=0.03)"
   ],
   "metadata": {
    "collapsed": false,
    "ExecuteTime": {
     "end_time": "2024-05-08T11:00:06.132805700Z",
     "start_time": "2024-05-08T11:00:06.112291Z"
    }
   },
   "id": "6e45bc603b01ad7a",
   "execution_count": 37
  },
  {
   "cell_type": "code",
   "outputs": [],
   "source": [
    "ranking = tools.HallOfFame(5)\n",
    "estadisticas = tools.Statistics(lambda indiv: indiv.fitness.values)\n",
    "estadisticas.register(\"promedio\", np.mean)\n",
    "estadisticas.register(\"max\", np.max)\n",
    "estadisticas.register(\"min\", np.min)\n"
   ],
   "metadata": {
    "collapsed": false,
    "ExecuteTime": {
     "end_time": "2024-05-08T11:00:07.588635600Z",
     "start_time": "2024-05-08T11:00:07.576739400Z"
    }
   },
   "id": "6436dd723da9c284",
   "execution_count": 38
  },
  {
   "cell_type": "code",
   "outputs": [
    {
     "name": "stdout",
     "output_type": "stream",
     "text": [
      "gen\tnevals\tpromedio\tmax\tmin\n",
      "0  \t1000  \t50.291  \t67 \t35 \n",
      "1  \t607   \t54.254  \t70 \t42 \n",
      "2  \t563   \t57.506  \t70 \t47 \n",
      "3  \t597   \t60.197  \t71 \t51 \n",
      "4  \t609   \t62.623  \t75 \t54 \n",
      "5  \t600   \t64.953  \t75 \t53 \n",
      "6  \t635   \t67.193  \t78 \t57 \n",
      "7  \t567   \t69.286  \t80 \t59 \n",
      "8  \t563   \t71.43   \t82 \t63 \n",
      "9  \t584   \t73.656  \t84 \t63 \n",
      "10 \t585   \t75.9    \t88 \t66 \n",
      "11 \t634   \t78.002  \t87 \t68 \n",
      "12 \t590   \t80.045  \t89 \t71 \n",
      "13 \t590   \t81.68   \t90 \t72 \n",
      "14 \t625   \t83.096  \t91 \t75 \n",
      "15 \t621   \t84.705  \t91 \t77 \n",
      "16 \t602   \t86.137  \t92 \t76 \n",
      "17 \t600   \t87.462  \t93 \t76 \n",
      "18 \t614   \t88.674  \t94 \t81 \n",
      "19 \t611   \t89.674  \t95 \t79 \n",
      "20 \t635   \t90.684  \t95 \t82 \n",
      "21 \t587   \t91.559  \t96 \t83 \n",
      "22 \t591   \t92.408  \t97 \t85 \n",
      "23 \t629   \t93.111  \t98 \t85 \n",
      "24 \t615   \t93.967  \t99 \t87 \n",
      "25 \t611   \t94.666  \t99 \t88 \n",
      "26 \t554   \t95.467  \t99 \t88 \n",
      "27 \t572   \t96.197  \t100\t87 \n",
      "28 \t618   \t96.821  \t100\t89 \n",
      "29 \t580   \t97.625  \t100\t88 \n",
      "30 \t628   \t98.058  \t100\t87 \n",
      "31 \t607   \t98.549  \t100\t90 \n",
      "32 \t574   \t98.932  \t100\t91 \n",
      "33 \t556   \t99.297  \t100\t90 \n",
      "34 \t622   \t99.267  \t100\t92 \n",
      "35 \t598   \t99.35   \t100\t92 \n"
     ]
    }
   ],
   "source": [
    "poblacion = toolbox.population(n = 1000)\n",
    "pop, logbook = algorithms.eaSimple(poblacion, toolbox, cxpb=0.5, mutpb=0.2, ngen=35, stats=estadisticas, halloffame=ranking, verbose=True)"
   ],
   "metadata": {
    "collapsed": false,
    "ExecuteTime": {
     "end_time": "2024-05-08T11:03:13.557417500Z",
     "start_time": "2024-05-08T11:03:11.668707900Z"
    }
   },
   "id": "fb6b0a3bba413185",
   "execution_count": 44
  },
  {
   "cell_type": "code",
   "outputs": [
    {
     "name": "stdout",
     "output_type": "stream",
     "text": [
      "El mejor individuo es [1, 1, 1, 1, 1, 1, 1, 1, 1, 1, 1, 1, 1, 1, 1, 1, 1, 1, 1, 1, 1, 1, 1, 1, 1, 1, 1, 1, 1, 1, 1, 1, 1, 1, 1, 1, 1, 1, 1, 1, 1, 1, 1, 1, 1, 1, 1, 1, 1, 1, 1, 1, 1, 1, 1, 1, 1, 1, 1, 1, 1, 1, 1, 1, 1, 1, 1, 1, 1, 1, 1, 1, 1, 1, 1, 1, 1, 1, 1, 1, 1, 1, 1, 1, 1, 1, 1, 1, 1, 1, 1, 1, 1, 1, 1, 1, 1, 1, 1, 1] con aptitud (100.0,)\n"
     ]
    }
   ],
   "source": [
    "print(f'El mejor individuo es {ranking[0]} con aptitud {ranking[0].fitness}')"
   ],
   "metadata": {
    "collapsed": false,
    "ExecuteTime": {
     "end_time": "2024-05-08T11:03:15.271185600Z",
     "start_time": "2024-05-08T11:03:15.258697800Z"
    }
   },
   "id": "c209e853e872ad25",
   "execution_count": 45
  }
 ],
 "metadata": {
  "kernelspec": {
   "display_name": "Python 3",
   "language": "python",
   "name": "python3"
  },
  "language_info": {
   "codemirror_mode": {
    "name": "ipython",
    "version": 2
   },
   "file_extension": ".py",
   "mimetype": "text/x-python",
   "name": "python",
   "nbconvert_exporter": "python",
   "pygments_lexer": "ipython2",
   "version": "2.7.6"
  }
 },
 "nbformat": 4,
 "nbformat_minor": 5
}
